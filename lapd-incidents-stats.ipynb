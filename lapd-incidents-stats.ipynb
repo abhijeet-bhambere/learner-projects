{
 "cells": [
  {
   "cell_type": "markdown",
   "id": "e24da275",
   "metadata": {},
   "source": [
    "# Analyzing LAPD Crime Stats"
   ]
  },
  {
   "cell_type": "code",
   "execution_count": 1,
   "id": "809d4cf1",
   "metadata": {},
   "outputs": [],
   "source": [
    "import numpy as np\n",
    "import pandas as pd\n",
    "import matplotlib.pyplot as plt\n",
    "import seaborn as sns\n",
    "from datetime import time\n"
   ]
  },
  {
   "cell_type": "code",
   "execution_count": 2,
   "id": "d0fe1968",
   "metadata": {},
   "outputs": [
    {
     "data": {
      "text/html": [
       "<div>\n",
       "<style scoped>\n",
       "    .dataframe tbody tr th:only-of-type {\n",
       "        vertical-align: middle;\n",
       "    }\n",
       "\n",
       "    .dataframe tbody tr th {\n",
       "        vertical-align: top;\n",
       "    }\n",
       "\n",
       "    .dataframe thead th {\n",
       "        text-align: right;\n",
       "    }\n",
       "</style>\n",
       "<table border=\"1\" class=\"dataframe\">\n",
       "  <thead>\n",
       "    <tr style=\"text-align: right;\">\n",
       "      <th></th>\n",
       "      <th>DR_NO</th>\n",
       "      <th>Date Rptd</th>\n",
       "      <th>DATE OCC</th>\n",
       "      <th>TIME OCC</th>\n",
       "      <th>AREA NAME</th>\n",
       "      <th>Crm Cd Desc</th>\n",
       "      <th>Vict Age</th>\n",
       "      <th>Vict Sex</th>\n",
       "      <th>Vict Descent</th>\n",
       "      <th>Weapon Desc</th>\n",
       "      <th>Status Desc</th>\n",
       "      <th>LOCATION</th>\n",
       "    </tr>\n",
       "  </thead>\n",
       "  <tbody>\n",
       "    <tr>\n",
       "      <th>0</th>\n",
       "      <td>220314085</td>\n",
       "      <td>2022-07-22</td>\n",
       "      <td>2020-05-12</td>\n",
       "      <td>1110</td>\n",
       "      <td>Southwest</td>\n",
       "      <td>THEFT OF IDENTITY</td>\n",
       "      <td>27</td>\n",
       "      <td>F</td>\n",
       "      <td>B</td>\n",
       "      <td>NaN</td>\n",
       "      <td>Invest Cont</td>\n",
       "      <td>2500 S  SYCAMORE                     AV</td>\n",
       "    </tr>\n",
       "    <tr>\n",
       "      <th>1</th>\n",
       "      <td>222013040</td>\n",
       "      <td>2022-08-06</td>\n",
       "      <td>2020-06-04</td>\n",
       "      <td>1620</td>\n",
       "      <td>Olympic</td>\n",
       "      <td>THEFT OF IDENTITY</td>\n",
       "      <td>60</td>\n",
       "      <td>M</td>\n",
       "      <td>H</td>\n",
       "      <td>NaN</td>\n",
       "      <td>Invest Cont</td>\n",
       "      <td>3300    SAN MARINO                   ST</td>\n",
       "    </tr>\n",
       "  </tbody>\n",
       "</table>\n",
       "</div>"
      ],
      "text/plain": [
       "       DR_NO   Date Rptd    DATE OCC  TIME OCC  AREA NAME        Crm Cd Desc  \\\n",
       "0  220314085  2022-07-22  2020-05-12      1110  Southwest  THEFT OF IDENTITY   \n",
       "1  222013040  2022-08-06  2020-06-04      1620    Olympic  THEFT OF IDENTITY   \n",
       "\n",
       "   Vict Age Vict Sex Vict Descent Weapon Desc  Status Desc  \\\n",
       "0        27        F            B         NaN  Invest Cont   \n",
       "1        60        M            H         NaN  Invest Cont   \n",
       "\n",
       "                                  LOCATION  \n",
       "0  2500 S  SYCAMORE                     AV  \n",
       "1  3300    SAN MARINO                   ST  "
      ]
     },
     "execution_count": 2,
     "metadata": {},
     "output_type": "execute_result"
    }
   ],
   "source": [
    "# importing the dataset\n",
    "crimes_lapd = pd.read_csv(\"./crimes.csv\")\n",
    "crimes_lapd.head(2)"
   ]
  },
  {
   "cell_type": "code",
   "execution_count": 3,
   "id": "721d6b65",
   "metadata": {},
   "outputs": [
    {
     "name": "stdout",
     "output_type": "stream",
     "text": [
      "<class 'pandas.core.frame.DataFrame'>\n",
      "RangeIndex: 185715 entries, 0 to 185714\n",
      "Data columns (total 12 columns):\n",
      " #   Column        Non-Null Count   Dtype \n",
      "---  ------        --------------   ----- \n",
      " 0   DR_NO         185715 non-null  int64 \n",
      " 1   Date Rptd     185715 non-null  object\n",
      " 2   DATE OCC      185715 non-null  object\n",
      " 3   TIME OCC      185715 non-null  int64 \n",
      " 4   AREA NAME     185715 non-null  object\n",
      " 5   Crm Cd Desc   185715 non-null  object\n",
      " 6   Vict Age      185715 non-null  int64 \n",
      " 7   Vict Sex      185704 non-null  object\n",
      " 8   Vict Descent  185705 non-null  object\n",
      " 9   Weapon Desc   73502 non-null   object\n",
      " 10  Status Desc   185715 non-null  object\n",
      " 11  LOCATION      185715 non-null  object\n",
      "dtypes: int64(3), object(9)\n",
      "memory usage: 17.0+ MB\n"
     ]
    }
   ],
   "source": [
    "crimes_lapd.info()"
   ]
  },
  {
   "cell_type": "markdown",
   "id": "b6b5f462",
   "metadata": {},
   "source": [
    "Based on 1st run , making changes to the dataframe to account for morning values in the TIME OCC column\n",
    "\n",
    "### Re-formatting Time OCC with zero-padding"
   ]
  },
  {
   "cell_type": "code",
   "execution_count": 4,
   "id": "09f6fb85",
   "metadata": {},
   "outputs": [],
   "source": [
    "crimes_lapd[\"TIME OCC\"] = crimes_lapd[\"TIME OCC\"].astype(\"str\")"
   ]
  },
  {
   "cell_type": "markdown",
   "id": "ec319949",
   "metadata": {},
   "source": [
    "Adding leading zeros to the string where string length is less than 4. i.e. adding 0 for 900 to make it 0900 etc.\n"
   ]
  },
  {
   "cell_type": "code",
   "execution_count": 5,
   "id": "fbe5721d",
   "metadata": {},
   "outputs": [],
   "source": [
    "crimes_lapd[\"TIME OCC\"] = crimes_lapd[\"TIME OCC\"].apply(lambda x: \"0\" + x if len(x)==3 else \"00\" + x if len(x)==2 else \"000\" + x if len(x)==1 else x).astype(\"str\")"
   ]
  },
  {
   "cell_type": "code",
   "execution_count": 6,
   "id": "0802b5fa",
   "metadata": {},
   "outputs": [
    {
     "data": {
      "text/html": [
       "<div>\n",
       "<style scoped>\n",
       "    .dataframe tbody tr th:only-of-type {\n",
       "        vertical-align: middle;\n",
       "    }\n",
       "\n",
       "    .dataframe tbody tr th {\n",
       "        vertical-align: top;\n",
       "    }\n",
       "\n",
       "    .dataframe thead th {\n",
       "        text-align: right;\n",
       "    }\n",
       "</style>\n",
       "<table border=\"1\" class=\"dataframe\">\n",
       "  <thead>\n",
       "    <tr style=\"text-align: right;\">\n",
       "      <th></th>\n",
       "      <th>DR_NO</th>\n",
       "      <th>Date Rptd</th>\n",
       "      <th>DATE OCC</th>\n",
       "      <th>TIME OCC</th>\n",
       "      <th>AREA NAME</th>\n",
       "      <th>Crm Cd Desc</th>\n",
       "      <th>Vict Age</th>\n",
       "      <th>Vict Sex</th>\n",
       "      <th>Vict Descent</th>\n",
       "      <th>Weapon Desc</th>\n",
       "      <th>Status Desc</th>\n",
       "      <th>LOCATION</th>\n",
       "    </tr>\n",
       "  </thead>\n",
       "  <tbody>\n",
       "  </tbody>\n",
       "</table>\n",
       "</div>"
      ],
      "text/plain": [
       "Empty DataFrame\n",
       "Columns: [DR_NO, Date Rptd, DATE OCC, TIME OCC, AREA NAME, Crm Cd Desc, Vict Age, Vict Sex, Vict Descent, Weapon Desc, Status Desc, LOCATION]\n",
       "Index: []"
      ]
     },
     "execution_count": 6,
     "metadata": {},
     "output_type": "execute_result"
    }
   ],
   "source": [
    "# Ensuring all Time OCC values are formatted correctly\n",
    "crimes_lapd[crimes_lapd[\"TIME OCC\"].str.len()<4]"
   ]
  },
  {
   "cell_type": "code",
   "execution_count": 7,
   "id": "ef29b7e4",
   "metadata": {},
   "outputs": [
    {
     "data": {
      "text/html": [
       "<div>\n",
       "<style scoped>\n",
       "    .dataframe tbody tr th:only-of-type {\n",
       "        vertical-align: middle;\n",
       "    }\n",
       "\n",
       "    .dataframe tbody tr th {\n",
       "        vertical-align: top;\n",
       "    }\n",
       "\n",
       "    .dataframe thead th {\n",
       "        text-align: right;\n",
       "    }\n",
       "</style>\n",
       "<table border=\"1\" class=\"dataframe\">\n",
       "  <thead>\n",
       "    <tr style=\"text-align: right;\">\n",
       "      <th></th>\n",
       "      <th>DR_NO</th>\n",
       "      <th>Date Rptd</th>\n",
       "      <th>DATE OCC</th>\n",
       "      <th>TIME OCC</th>\n",
       "      <th>AREA NAME</th>\n",
       "      <th>Crm Cd Desc</th>\n",
       "      <th>Vict Age</th>\n",
       "      <th>Vict Sex</th>\n",
       "      <th>Vict Descent</th>\n",
       "      <th>Weapon Desc</th>\n",
       "      <th>Status Desc</th>\n",
       "      <th>LOCATION</th>\n",
       "    </tr>\n",
       "  </thead>\n",
       "  <tbody>\n",
       "    <tr>\n",
       "      <th>0</th>\n",
       "      <td>220314085</td>\n",
       "      <td>2022-07-22</td>\n",
       "      <td>2020-05-12</td>\n",
       "      <td>11:10:00</td>\n",
       "      <td>Southwest</td>\n",
       "      <td>THEFT OF IDENTITY</td>\n",
       "      <td>27</td>\n",
       "      <td>F</td>\n",
       "      <td>B</td>\n",
       "      <td>NaN</td>\n",
       "      <td>Invest Cont</td>\n",
       "      <td>2500 S  SYCAMORE                     AV</td>\n",
       "    </tr>\n",
       "    <tr>\n",
       "      <th>1</th>\n",
       "      <td>222013040</td>\n",
       "      <td>2022-08-06</td>\n",
       "      <td>2020-06-04</td>\n",
       "      <td>16:20:00</td>\n",
       "      <td>Olympic</td>\n",
       "      <td>THEFT OF IDENTITY</td>\n",
       "      <td>60</td>\n",
       "      <td>M</td>\n",
       "      <td>H</td>\n",
       "      <td>NaN</td>\n",
       "      <td>Invest Cont</td>\n",
       "      <td>3300    SAN MARINO                   ST</td>\n",
       "    </tr>\n",
       "    <tr>\n",
       "      <th>2</th>\n",
       "      <td>220614831</td>\n",
       "      <td>2022-08-18</td>\n",
       "      <td>2020-08-17</td>\n",
       "      <td>12:00:00</td>\n",
       "      <td>Hollywood</td>\n",
       "      <td>THEFT OF IDENTITY</td>\n",
       "      <td>28</td>\n",
       "      <td>M</td>\n",
       "      <td>H</td>\n",
       "      <td>NaN</td>\n",
       "      <td>Invest Cont</td>\n",
       "      <td>1900    TRANSIENT</td>\n",
       "    </tr>\n",
       "    <tr>\n",
       "      <th>3</th>\n",
       "      <td>231207725</td>\n",
       "      <td>2023-02-27</td>\n",
       "      <td>2020-01-27</td>\n",
       "      <td>06:35:00</td>\n",
       "      <td>77th Street</td>\n",
       "      <td>THEFT OF IDENTITY</td>\n",
       "      <td>37</td>\n",
       "      <td>M</td>\n",
       "      <td>H</td>\n",
       "      <td>NaN</td>\n",
       "      <td>Invest Cont</td>\n",
       "      <td>6200    4TH                          AV</td>\n",
       "    </tr>\n",
       "    <tr>\n",
       "      <th>4</th>\n",
       "      <td>220213256</td>\n",
       "      <td>2022-07-14</td>\n",
       "      <td>2020-07-14</td>\n",
       "      <td>09:00:00</td>\n",
       "      <td>Rampart</td>\n",
       "      <td>THEFT OF IDENTITY</td>\n",
       "      <td>79</td>\n",
       "      <td>M</td>\n",
       "      <td>B</td>\n",
       "      <td>NaN</td>\n",
       "      <td>Invest Cont</td>\n",
       "      <td>1200 W  7TH                          ST</td>\n",
       "    </tr>\n",
       "  </tbody>\n",
       "</table>\n",
       "</div>"
      ],
      "text/plain": [
       "       DR_NO   Date Rptd    DATE OCC  TIME OCC    AREA NAME  \\\n",
       "0  220314085  2022-07-22  2020-05-12  11:10:00    Southwest   \n",
       "1  222013040  2022-08-06  2020-06-04  16:20:00      Olympic   \n",
       "2  220614831  2022-08-18  2020-08-17  12:00:00    Hollywood   \n",
       "3  231207725  2023-02-27  2020-01-27  06:35:00  77th Street   \n",
       "4  220213256  2022-07-14  2020-07-14  09:00:00      Rampart   \n",
       "\n",
       "         Crm Cd Desc  Vict Age Vict Sex Vict Descent Weapon Desc  Status Desc  \\\n",
       "0  THEFT OF IDENTITY        27        F            B         NaN  Invest Cont   \n",
       "1  THEFT OF IDENTITY        60        M            H         NaN  Invest Cont   \n",
       "2  THEFT OF IDENTITY        28        M            H         NaN  Invest Cont   \n",
       "3  THEFT OF IDENTITY        37        M            H         NaN  Invest Cont   \n",
       "4  THEFT OF IDENTITY        79        M            B         NaN  Invest Cont   \n",
       "\n",
       "                                  LOCATION  \n",
       "0  2500 S  SYCAMORE                     AV  \n",
       "1  3300    SAN MARINO                   ST  \n",
       "2                        1900    TRANSIENT  \n",
       "3  6200    4TH                          AV  \n",
       "4  1200 W  7TH                          ST  "
      ]
     },
     "execution_count": 7,
     "metadata": {},
     "output_type": "execute_result"
    }
   ],
   "source": [
    "# Now converting to time format:\n",
    "crimes_lapd[\"TIME OCC\"] = pd.to_datetime(crimes_lapd[\"TIME OCC\"], format=\"%H%M\").dt.time\n",
    "crimes_lapd.head(5)"
   ]
  },
  {
   "cell_type": "markdown",
   "id": "8b7a21d2",
   "metadata": {},
   "source": [
    "### Q-Which hour has the highest frequency of crimes?\n",
    "Store as an integer variable called `peak_crime_hour`.\n",
    "\n",
    "- Converting dtype of the time occurrence column (TIME OCC) to string\n",
    "- The time value seems to be in 24hr format hence extracting 1st two characters of column value"
   ]
  },
  {
   "cell_type": "code",
   "execution_count": 8,
   "id": "9644b822",
   "metadata": {},
   "outputs": [
    {
     "name": "stdout",
     "output_type": "stream",
     "text": [
      "12\n"
     ]
    }
   ],
   "source": [
    "# Hour with highest no. of crime occurrences\n",
    "peak_crime_hour = crimes_lapd[\"TIME OCC\"].value_counts().idxmax().hour\n",
    "print(peak_crime_hour)"
   ]
  },
  {
   "cell_type": "markdown",
   "id": "7f765d26",
   "metadata": {},
   "source": [
    "### Q - Which area has the largest frequency of night crimes (crimes committed between 10pm and 3:59am)? \n",
    "Save as a string variable called `peak_night_crime_location`."
   ]
  },
  {
   "cell_type": "code",
   "execution_count": 9,
   "id": "4bcecdef",
   "metadata": {},
   "outputs": [],
   "source": [
    "start_time = time(22,0,0)\n",
    "end_time = time(4,0,0)\n",
    "\n",
    "newcr = crimes_lapd[(crimes_lapd[\"TIME OCC\"]>start_time) | (crimes_lapd[\"TIME OCC\"]<end_time)]"
   ]
  },
  {
   "cell_type": "markdown",
   "id": "99d5bb05",
   "metadata": {},
   "source": [
    ">It seems the TIME OCC column has to be accounted for time values before 12. These values did not contain zero-padding so we had to add \"0\" to all value before.\n",
    ">\n",
    ">OR else ,we can convert the Time OCC column to a `datetime` dtype."
   ]
  },
  {
   "cell_type": "code",
   "execution_count": 10,
   "id": "83f923a9",
   "metadata": {},
   "outputs": [
    {
     "name": "stdout",
     "output_type": "stream",
     "text": [
      "Central\n"
     ]
    }
   ],
   "source": [
    "peak_night_crime_location = newcr[\"AREA NAME\"].value_counts().index[0]\n",
    "print(peak_night_crime_location)"
   ]
  },
  {
   "cell_type": "code",
   "execution_count": 11,
   "id": "a3a49dc1",
   "metadata": {},
   "outputs": [
    {
     "data": {
      "image/png": "[encoded data removed]",
      "text/plain": [
       "<Figure size 700x400 with 1 Axes>"
      ]
     },
     "metadata": {},
     "output_type": "display_data"
    }
   ],
   "source": [
    "# EXTRA: Visualizing locations with high occurrence of crimes at night\n",
    "plt.figure(figsize=(7,4))\n",
    "sns.countplot(data=crimes_lapd.head(10), x=\"AREA NAME\", hue=\"AREA NAME\")\n",
    "plt.tight_layout()\n",
    "\n",
    "plt.show()"
   ]
  },
  {
   "cell_type": "markdown",
   "id": "61fcaa4f",
   "metadata": {},
   "source": [
    "### Q - Identify the number of crimes committed against victims of different age groups\n",
    "Save as a pandas Series called `victim_ages`, with **below age group labels as the index** and the **frequency of crimes as the values**:\n",
    "\n",
    "\"0-17\", \"18-25\", \"26-34\", \"35-44\", \"45-54\", \"55-64\", and \"65+\" \n",
    "\n",
    "We'll try with `pd.cut` or  add an age_Category column using `np.select`"
   ]
  },
  {
   "cell_type": "code",
   "execution_count": 12,
   "id": "d950769c",
   "metadata": {},
   "outputs": [],
   "source": [
    "bins=[0, 17, 25, 34, 44, 54, 64, np.inf]\n",
    "labels=[\"0-17\",\"18-25\",\"26-34\",\"35-44\",\"45-44\",\"55-64\",\"65+\"]\n",
    "vic_ages = pd.cut(x=crimes_lapd[\"Vict Age\"], bins=bins, labels=labels, right=True)"
   ]
  },
  {
   "cell_type": "code",
   "execution_count": 13,
   "id": "0d5af727",
   "metadata": {},
   "outputs": [
    {
     "data": {
      "text/html": [
       "<div>\n",
       "<style scoped>\n",
       "    .dataframe tbody tr th:only-of-type {\n",
       "        vertical-align: middle;\n",
       "    }\n",
       "\n",
       "    .dataframe tbody tr th {\n",
       "        vertical-align: top;\n",
       "    }\n",
       "\n",
       "    .dataframe thead th {\n",
       "        text-align: right;\n",
       "    }\n",
       "</style>\n",
       "<table border=\"1\" class=\"dataframe\">\n",
       "  <thead>\n",
       "    <tr style=\"text-align: right;\">\n",
       "      <th></th>\n",
       "      <th>DR_NO</th>\n",
       "      <th>Date Rptd</th>\n",
       "      <th>DATE OCC</th>\n",
       "      <th>TIME OCC</th>\n",
       "      <th>AREA NAME</th>\n",
       "      <th>Crm Cd Desc</th>\n",
       "      <th>Vict Age</th>\n",
       "      <th>victim_ages</th>\n",
       "      <th>Vict Sex</th>\n",
       "      <th>Vict Descent</th>\n",
       "      <th>Weapon Desc</th>\n",
       "      <th>Status Desc</th>\n",
       "      <th>LOCATION</th>\n",
       "    </tr>\n",
       "  </thead>\n",
       "  <tbody>\n",
       "    <tr>\n",
       "      <th>0</th>\n",
       "      <td>220314085</td>\n",
       "      <td>2022-07-22</td>\n",
       "      <td>2020-05-12</td>\n",
       "      <td>11:10:00</td>\n",
       "      <td>Southwest</td>\n",
       "      <td>THEFT OF IDENTITY</td>\n",
       "      <td>27</td>\n",
       "      <td>26-34</td>\n",
       "      <td>F</td>\n",
       "      <td>B</td>\n",
       "      <td>NaN</td>\n",
       "      <td>Invest Cont</td>\n",
       "      <td>2500 S  SYCAMORE                     AV</td>\n",
       "    </tr>\n",
       "    <tr>\n",
       "      <th>1</th>\n",
       "      <td>222013040</td>\n",
       "      <td>2022-08-06</td>\n",
       "      <td>2020-06-04</td>\n",
       "      <td>16:20:00</td>\n",
       "      <td>Olympic</td>\n",
       "      <td>THEFT OF IDENTITY</td>\n",
       "      <td>60</td>\n",
       "      <td>55-64</td>\n",
       "      <td>M</td>\n",
       "      <td>H</td>\n",
       "      <td>NaN</td>\n",
       "      <td>Invest Cont</td>\n",
       "      <td>3300    SAN MARINO                   ST</td>\n",
       "    </tr>\n",
       "    <tr>\n",
       "      <th>2</th>\n",
       "      <td>220614831</td>\n",
       "      <td>2022-08-18</td>\n",
       "      <td>2020-08-17</td>\n",
       "      <td>12:00:00</td>\n",
       "      <td>Hollywood</td>\n",
       "      <td>THEFT OF IDENTITY</td>\n",
       "      <td>28</td>\n",
       "      <td>26-34</td>\n",
       "      <td>M</td>\n",
       "      <td>H</td>\n",
       "      <td>NaN</td>\n",
       "      <td>Invest Cont</td>\n",
       "      <td>1900    TRANSIENT</td>\n",
       "    </tr>\n",
       "    <tr>\n",
       "      <th>3</th>\n",
       "      <td>231207725</td>\n",
       "      <td>2023-02-27</td>\n",
       "      <td>2020-01-27</td>\n",
       "      <td>06:35:00</td>\n",
       "      <td>77th Street</td>\n",
       "      <td>THEFT OF IDENTITY</td>\n",
       "      <td>37</td>\n",
       "      <td>35-44</td>\n",
       "      <td>M</td>\n",
       "      <td>H</td>\n",
       "      <td>NaN</td>\n",
       "      <td>Invest Cont</td>\n",
       "      <td>6200    4TH                          AV</td>\n",
       "    </tr>\n",
       "    <tr>\n",
       "      <th>4</th>\n",
       "      <td>220213256</td>\n",
       "      <td>2022-07-14</td>\n",
       "      <td>2020-07-14</td>\n",
       "      <td>09:00:00</td>\n",
       "      <td>Rampart</td>\n",
       "      <td>THEFT OF IDENTITY</td>\n",
       "      <td>79</td>\n",
       "      <td>65+</td>\n",
       "      <td>M</td>\n",
       "      <td>B</td>\n",
       "      <td>NaN</td>\n",
       "      <td>Invest Cont</td>\n",
       "      <td>1200 W  7TH                          ST</td>\n",
       "    </tr>\n",
       "  </tbody>\n",
       "</table>\n",
       "</div>"
      ],
      "text/plain": [
       "       DR_NO   Date Rptd    DATE OCC  TIME OCC    AREA NAME  \\\n",
       "0  220314085  2022-07-22  2020-05-12  11:10:00    Southwest   \n",
       "1  222013040  2022-08-06  2020-06-04  16:20:00      Olympic   \n",
       "2  220614831  2022-08-18  2020-08-17  12:00:00    Hollywood   \n",
       "3  231207725  2023-02-27  2020-01-27  06:35:00  77th Street   \n",
       "4  220213256  2022-07-14  2020-07-14  09:00:00      Rampart   \n",
       "\n",
       "         Crm Cd Desc  Vict Age victim_ages Vict Sex Vict Descent Weapon Desc  \\\n",
       "0  THEFT OF IDENTITY        27       26-34        F            B         NaN   \n",
       "1  THEFT OF IDENTITY        60       55-64        M            H         NaN   \n",
       "2  THEFT OF IDENTITY        28       26-34        M            H         NaN   \n",
       "3  THEFT OF IDENTITY        37       35-44        M            H         NaN   \n",
       "4  THEFT OF IDENTITY        79         65+        M            B         NaN   \n",
       "\n",
       "   Status Desc                                 LOCATION  \n",
       "0  Invest Cont  2500 S  SYCAMORE                     AV  \n",
       "1  Invest Cont  3300    SAN MARINO                   ST  \n",
       "2  Invest Cont                        1900    TRANSIENT  \n",
       "3  Invest Cont  6200    4TH                          AV  \n",
       "4  Invest Cont  1200 W  7TH                          ST  "
      ]
     },
     "execution_count": 13,
     "metadata": {},
     "output_type": "execute_result"
    }
   ],
   "source": [
    "crimes_lapd.insert(7, column=\"victim_ages\",value=vic_ages)\n",
    "crimes_lapd.head()"
   ]
  },
  {
   "cell_type": "code",
   "execution_count": 14,
   "id": "7fd91b93",
   "metadata": {},
   "outputs": [
    {
     "data": {
      "text/plain": [
       "victim_ages\n",
       "26-34    47470\n",
       "35-44    42157\n",
       "45-44    28353\n",
       "18-25    28291\n",
       "55-64    20169\n",
       "65+      14747\n",
       "0-17      4528\n",
       "Name: count, dtype: int64"
      ]
     },
     "execution_count": 14,
     "metadata": {},
     "output_type": "execute_result"
    }
   ],
   "source": [
    "# Now counting the no. of occurrences per victim age groups\n",
    "victim_ages =  crimes_lapd[\"victim_ages\"].value_counts()\n",
    "victim_ages"
   ]
  },
  {
   "cell_type": "code",
   "execution_count": 17,
   "id": "64e50eb8",
   "metadata": {},
   "outputs": [
    {
     "data": {
      "text/plain": [
       "count    185715.000000\n",
       "mean         39.999257\n",
       "std          15.450227\n",
       "min           2.000000\n",
       "25%          28.000000\n",
       "50%          37.000000\n",
       "75%          50.000000\n",
       "max          99.000000\n",
       "Name: Vict Age, dtype: float64"
      ]
     },
     "execution_count": 17,
     "metadata": {},
     "output_type": "execute_result"
    }
   ],
   "source": [
    "crimes_lapd[\"Vict Age\"].describe()"
   ]
  },
  {
   "cell_type": "code",
   "execution_count": null,
   "id": "68809980",
   "metadata": {},
   "outputs": [],
   "source": []
  },
  {
   "cell_type": "code",
   "execution_count": null,
   "id": "4fdc5d98",
   "metadata": {},
   "outputs": [],
   "source": []
  }
 ],
 "metadata": {
  "kernelspec": {
   "display_name": "dcvenv",
   "language": "python",
   "name": "python3"
  },
  "language_info": {
   "codemirror_mode": {
    "name": "ipython",
    "version": 3
   },
   "file_extension": ".py",
   "mimetype": "text/x-python",
   "name": "python",
   "nbconvert_exporter": "python",
   "pygments_lexer": "ipython3",
   "version": "3.13.5"
  }
 },
 "nbformat": 4,
 "nbformat_minor": 5
}
